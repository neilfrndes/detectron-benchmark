{
 "cells": [
  {
   "cell_type": "code",
   "execution_count": 5,
   "metadata": {},
   "outputs": [],
   "source": [
    "# You may need to restart your runtime prior to this, to let your installation take effect\n",
    "# Some basic setup:\n",
    "# Setup detectron2 logger\n",
    "import detectron2\n",
    "from detectron2.utils.logger import setup_logger\n",
    "setup_logger()\n",
    "\n",
    "# import some common libraries\n",
    "import numpy as np\n",
    "import cv2\n",
    "import random\n",
    "\n",
    "# import some common detectron2 utilities\n",
    "from detectron2 import model_zoo\n",
    "from detectron2.engine import DefaultPredictor\n",
    "from detectron2.config import get_cfg\n",
    "from detectron2.utils.visualizer import Visualizer\n",
    "from detectron2.data import MetadataCatalog"
   ]
  },
  {
   "cell_type": "code",
   "execution_count": 6,
   "metadata": {},
   "outputs": [
    {
     "output_type": "stream",
     "name": "stdout",
     "text": "--2020-06-04 17:35:37--  http://images.cocodataset.org/val2017/000000439715.jpg\nResolving images.cocodataset.org (images.cocodataset.org)...52.216.226.96\nConnecting to images.cocodataset.org (images.cocodataset.org)|52.216.226.96|:80...connected.\nHTTP request sent, awaiting response...200 OK\nLength: 209222 (204K) [image/jpeg]\nSaving to: ‘input.jpg’\n\ninput.jpg           100%[===================>] 204.32K  1.06MB/s    in 0.2s    \n\n2020-06-04 17:35:38 (1.06 MB/s) - ‘input.jpg’ saved [209222/209222]\n\n"
    }
   ],
   "source": [
    "!wget http://images.cocodataset.org/val2017/000000439715.jpg -O input.jpg\n",
    "im = cv2.imread(\"./input.jpg\")"
   ]
  },
  {
   "cell_type": "code",
   "execution_count": 2,
   "metadata": {},
   "outputs": [],
   "source": [
    "import zipfile"
   ]
  },
  {
   "cell_type": "code",
   "execution_count": null,
   "metadata": {},
   "outputs": [],
   "source": []
  }
 ],
 "metadata": {
  "language_info": {
   "codemirror_mode": {
    "name": "ipython",
    "version": 3
   },
   "file_extension": ".py",
   "mimetype": "text/x-python",
   "name": "python",
   "nbconvert_exporter": "python",
   "pygments_lexer": "ipython3",
   "version": "3.6.10-final"
  },
  "orig_nbformat": 2,
  "kernelspec": {
   "name": "python361064bitpytorchlatestp36conda0b44c0e863ae4612ba044f2cb8228da6",
   "display_name": "Python 3.6.10 64-bit ('pytorch_latest_p36': conda)"
  }
 },
 "nbformat": 4,
 "nbformat_minor": 2
}